{
 "cells": [
  {
   "cell_type": "code",
   "execution_count": 1,
   "metadata": {},
   "outputs": [],
   "source": [
    "import torch\n",
    "import trimesh\n",
    "import plotly.graph_objs as go"
   ]
  },
  {
   "cell_type": "code",
   "execution_count": 2,
   "metadata": {},
   "outputs": [],
   "source": [
    "def plot_points(points, fig=go.Figure(), shift=[0,0,0], rowcol=None, camera=None):\n",
    "    marker=dict(\n",
    "            color='LightSkyBlue',\n",
    "            size=2,\n",
    "            line=dict(\n",
    "                color='MediumPurple',\n",
    "                width=2\n",
    "            )\n",
    "        )\n",
    "    figpoints = go.Scatter3d(x=points[:,0]+shift[0], \n",
    "                             y=points[:,1]+shift[1],\n",
    "                             z=points[:,2]+shift[2],\n",
    "                             mode='markers', marker=marker)\n",
    "    if rowcol is None:\n",
    "        fig.add_trace(figpoints)\n",
    "    else:\n",
    "        fig.append_trace(figpoints, row=rowcol[0], col=rowcol[1])\n",
    "    return fig\n",
    "\n",
    "# plot mesh using plotly 3D plotting\n",
    "def plot_mesh(mesh, faces, points=[], color=\"blue\", opacity=1, fig=go.Figure(), rowcol=None, show_points=True, shift=[0,0,0]):\n",
    "    V,F = mesh, faces\n",
    "    figmesh = go.Mesh3d(x=V[:,0]+shift[0], \n",
    "                        y=V[:,1]+shift[1], \n",
    "                        z=V[:,2]+shift[2], \n",
    "                        i=F[:,0], j=F[:,1], k=F[:,2], color=color, opacity=opacity)\n",
    "    if rowcol is None:\n",
    "        fig.add_trace(figmesh)\n",
    "    else:\n",
    "        fig.append_trace(figmesh, row=rowcol[0], col=rowcol[1])\n",
    "\n",
    "    if len(points) > 0:\n",
    "        fig = plot_points(points, fig, shift=shift, rowcol=rowcol)\n",
    "        \n",
    "    return fig"
   ]
  },
  {
   "cell_type": "code",
   "execution_count": null,
   "metadata": {},
   "outputs": [],
   "source": [
    "def load_mesh_as_tensors(filepath):\n",
    "    # Load the mesh\n",
    "    mesh = trimesh.load(filepath, process=False)\n",
    "    \n",
    "    # Convert vertices and faces to PyTorch tensors\n",
    "    vertices = torch.tensor(mesh.vertices, dtype=torch.float32)\n",
    "    faces = torch.tensor(mesh.faces, dtype=torch.long)\n",
    "    \n",
    "    return vertices, faces"
   ]
  },
  {
   "cell_type": "code",
   "execution_count": null,
   "metadata": {},
   "outputs": [],
   "source": [
    "VS, FS = load_mesh_as_tensors('data/surface_meshes/segmentation_a_remesh.ply')\n",
    "VT, FT = load_mesh_as_tensors('data/surface_meshes/segmentation_r_remesh.ply')\n",
    "\n",
    "torch.save((VS, FS, VT, FT), 'data/vt_tensors/a-r_mesh.pt')\n",
    "VS,FS,VT,FT = torch.load('data/vt_tensors/a-r_mesh.pt')\n",
    "\n",
    "phi_mesh_list_1 = torch.load('data/deformed_meshes_sigma_15.pt')\n",
    "fig = go.Figure()\n",
    "plot_mesh(phi_mesh_list_1[-1], FS, color=\"red\", fig=fig, opacity=.5)"
   ]
  }
 ],
 "metadata": {
  "kernelspec": {
   "display_name": "base",
   "language": "python",
   "name": "python3"
  },
  "language_info": {
   "codemirror_mode": {
    "name": "ipython",
    "version": 3
   },
   "file_extension": ".py",
   "mimetype": "text/x-python",
   "name": "python",
   "nbconvert_exporter": "python",
   "pygments_lexer": "ipython3",
   "version": "3.11.9"
  }
 },
 "nbformat": 4,
 "nbformat_minor": 2
}
